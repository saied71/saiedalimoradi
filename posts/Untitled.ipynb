{
 "cells": [
  {
   "cell_type": "markdown",
   "id": "e6eb495d",
   "metadata": {},
   "source": [
    "---\n",
    "aliases:\n",
    "- test-notebook\n",
    "date: '2024-07-17'\n",
    "description: nothing\n",
    "output-file: test-notebook.html\n",
    "title: test-notebook\n",
    "image: images/thumbnail.jpg\n",
    "---"
   ]
  },
  {
   "cell_type": "code",
   "execution_count": 2,
   "id": "2bbdc249",
   "metadata": {},
   "outputs": [],
   "source": [
    "df = pd.read_json(\"users_export_phone.json\")"
   ]
  },
  {
   "cell_type": "code",
   "execution_count": 4,
   "id": "f0f90c77",
   "metadata": {},
   "outputs": [],
   "source": [
    "df.drop_duplicates(subset=[\"phone_number\"], inplace=True)\n",
    "df.dropna(subset=[\"phone_number\"], inplace=True)"
   ]
  },
  {
   "cell_type": "code",
   "execution_count": 11,
   "id": "f7796f16",
   "metadata": {},
   "outputs": [],
   "source": [
    "txt_num = \"\\n\".join(df[\"phone_number\"].astype(\"str\").tolist())\n",
    "with open(\"phone_numbers.txt\", \"w\") as file:\n",
    "    file .write(txt_num)"
   ]
  },
  {
   "cell_type": "code",
   "execution_count": 2,
   "id": "9c9b86db",
   "metadata": {},
   "outputs": [],
   "source": [
    "df_all = pd.DataFrame()\n",
    "for i in glob.iglob(\"word_data/*.json\"):\n",
    "    if \"article\" in i:\n",
    "        df = pd.read_json(i)\n",
    "        if \"count\" in df.columns.tolist():\n",
    "            df.rename(columns={\"count\":\"words\"}, inplace=True)\n",
    "        df_all = pd.concat([df, df_all], ignore_index=True)\n",
    "    else:\n",
    "        pass"
   ]
  },
  {
   "cell_type": "code",
   "execution_count": 3,
   "id": "208c826e",
   "metadata": {},
   "outputs": [],
   "source": [
    "df_all[\"created\"] = pd.to_datetime(df_all[\"created\"])"
   ]
  },
  {
   "cell_type": "code",
   "execution_count": 8,
   "id": "7ea97825",
   "metadata": {},
   "outputs": [],
   "source": [
    "df_all = df_all[df_all[\"created\"] > \"2023-07-23\"]"
   ]
  },
  {
   "cell_type": "code",
   "execution_count": 12,
   "id": "7165407a",
   "metadata": {},
   "outputs": [
    {
     "data": {
      "text/html": [
       "<div>\n",
       "<style scoped>\n",
       "    .dataframe tbody tr th:only-of-type {\n",
       "        vertical-align: middle;\n",
       "    }\n",
       "\n",
       "    .dataframe tbody tr th {\n",
       "        vertical-align: top;\n",
       "    }\n",
       "\n",
       "    .dataframe thead th {\n",
       "        text-align: right;\n",
       "    }\n",
       "</style>\n",
       "<table border=\"1\" class=\"dataframe\">\n",
       "  <thead>\n",
       "    <tr style=\"text-align: right;\">\n",
       "      <th></th>\n",
       "      <th>complete</th>\n",
       "      <th>words</th>\n",
       "    </tr>\n",
       "    <tr>\n",
       "      <th>month</th>\n",
       "      <th></th>\n",
       "      <th></th>\n",
       "    </tr>\n",
       "  </thead>\n",
       "  <tbody>\n",
       "    <tr>\n",
       "      <th>1</th>\n",
       "      <td>1972</td>\n",
       "      <td>1944453</td>\n",
       "    </tr>\n",
       "    <tr>\n",
       "      <th>7</th>\n",
       "      <td>508</td>\n",
       "      <td>663098</td>\n",
       "    </tr>\n",
       "    <tr>\n",
       "      <th>8</th>\n",
       "      <td>1310</td>\n",
       "      <td>1688996</td>\n",
       "    </tr>\n",
       "    <tr>\n",
       "      <th>9</th>\n",
       "      <td>1479</td>\n",
       "      <td>1944561</td>\n",
       "    </tr>\n",
       "    <tr>\n",
       "      <th>10</th>\n",
       "      <td>1804</td>\n",
       "      <td>2373311</td>\n",
       "    </tr>\n",
       "    <tr>\n",
       "      <th>11</th>\n",
       "      <td>1935</td>\n",
       "      <td>1904306</td>\n",
       "    </tr>\n",
       "    <tr>\n",
       "      <th>12</th>\n",
       "      <td>2876</td>\n",
       "      <td>2759498</td>\n",
       "    </tr>\n",
       "  </tbody>\n",
       "</table>\n",
       "</div>"
      ],
      "text/plain": [
       "       complete    words\n",
       "month                   \n",
       "1          1972  1944453\n",
       "7           508   663098\n",
       "8          1310  1688996\n",
       "9          1479  1944561\n",
       "10         1804  2373311\n",
       "11         1935  1904306\n",
       "12         2876  2759498"
      ]
     },
     "execution_count": 12,
     "metadata": {},
     "output_type": "execute_result"
    }
   ],
   "source": [
    "df_all[\"month\"] = df_all[\"created\"].dt.month\n",
    "df_all.groupby(\"month\").agg({\"complete\": \"sum\", \"words\": \"sum\"})"
   ]
  },
  {
   "cell_type": "code",
   "execution_count": 90,
   "id": "10e9d0a1",
   "metadata": {},
   "outputs": [
    {
     "data": {
      "text/plain": [
       "8839"
      ]
     },
     "execution_count": 90,
     "metadata": {},
     "output_type": "execute_result"
    }
   ],
   "source": [
    "dd = df_all[df_all[\"created\"] > \"1-10-2023\"]\n",
    "dd[\"words\"].max()"
   ]
  },
  {
   "cell_type": "code",
   "execution_count": 58,
   "id": "bc4df2e8",
   "metadata": {},
   "outputs": [],
   "source": [
    "df_month = df_all.groupby(\"week\").agg({\"words\": \"sum\"}).reset_index()\n",
    "df_day = df_all.groupby(\"day\").agg({\"words\": \"sum\"}).reset_index()"
   ]
  },
  {
   "cell_type": "code",
   "execution_count": 87,
   "id": "3a7d5c84",
   "metadata": {},
   "outputs": [
    {
     "name": "stdout",
     "output_type": "stream",
     "text": [
      "614.6506297601618\n"
     ]
    }
   ],
   "source": [
    "a= dd.groupby(pd.Grouper(key='created', freq='D')).agg({\"words\": \"mean\"})\n",
    "print(a[\"words\"].mean())"
   ]
  },
  {
   "cell_type": "code",
   "execution_count": 82,
   "id": "0ed29379",
   "metadata": {},
   "outputs": [
    {
     "name": "stdout",
     "output_type": "stream",
     "text": [
      "591.223619913266\n"
     ]
    }
   ],
   "source": [
    "a= df_all.groupby(pd.Grouper(key='created', freq='W')).agg({\"words\": \"mean\"})\n",
    "print(a[\"words\"].mean())"
   ]
  },
  {
   "cell_type": "code",
   "execution_count": 68,
   "id": "df7ed9ec",
   "metadata": {},
   "outputs": [
    {
     "ename": "AttributeError",
     "evalue": "Can only use .dt accessor with datetimelike values",
     "output_type": "error",
     "traceback": [
      "\u001b[0;31m---------------------------------------------------------------------------\u001b[0m",
      "\u001b[0;31mAttributeError\u001b[0m                            Traceback (most recent call last)",
      "Cell \u001b[0;32mIn[68], line 11\u001b[0m\n\u001b[1;32m      9\u001b[0m     firstday_in_month \u001b[38;5;241m=\u001b[39m dates \u001b[38;5;241m-\u001b[39m pd\u001b[38;5;241m.\u001b[39mto_timedelta(dates\u001b[38;5;241m.\u001b[39mdt\u001b[38;5;241m.\u001b[39mday \u001b[38;5;241m-\u001b[39m \u001b[38;5;241m1\u001b[39m, unit\u001b[38;5;241m=\u001b[39m\u001b[38;5;124m'\u001b[39m\u001b[38;5;124md\u001b[39m\u001b[38;5;124m'\u001b[39m)\n\u001b[1;32m     10\u001b[0m     \u001b[38;5;28;01mreturn\u001b[39;00m (dates\u001b[38;5;241m.\u001b[39mdt\u001b[38;5;241m.\u001b[39mday\u001b[38;5;241m-\u001b[39m\u001b[38;5;241m1\u001b[39m \u001b[38;5;241m+\u001b[39m firstday_in_month\u001b[38;5;241m.\u001b[39mdt\u001b[38;5;241m.\u001b[39mweekday) \u001b[38;5;241m/\u001b[39m\u001b[38;5;241m/\u001b[39m \u001b[38;5;241m7\u001b[39m \u001b[38;5;241m+\u001b[39m \u001b[38;5;241m1\u001b[39m\n\u001b[0;32m---> 11\u001b[0m \u001b[43mweekinmonth\u001b[49m\u001b[43m(\u001b[49m\u001b[43mdf\u001b[49m\u001b[43m[\u001b[49m\u001b[38;5;124;43m\"\u001b[39;49m\u001b[38;5;124;43mcreated\u001b[39;49m\u001b[38;5;124;43m\"\u001b[39;49m\u001b[43m]\u001b[49m\u001b[43m)\u001b[49m\n",
      "Cell \u001b[0;32mIn[68], line 9\u001b[0m, in \u001b[0;36mweekinmonth\u001b[0;34m(dates)\u001b[0m\n\u001b[1;32m      1\u001b[0m \u001b[38;5;28;01mdef\u001b[39;00m \u001b[38;5;21mweekinmonth\u001b[39m(dates):\n\u001b[1;32m      2\u001b[0m \u001b[38;5;250m    \u001b[39m\u001b[38;5;124;03m\"\"\"Get week number in a month.\u001b[39;00m\n\u001b[1;32m      3\u001b[0m \u001b[38;5;124;03m    \u001b[39;00m\n\u001b[1;32m      4\u001b[0m \u001b[38;5;124;03m    Parameters: \u001b[39;00m\n\u001b[0;32m   (...)\u001b[0m\n\u001b[1;32m      7\u001b[0m \u001b[38;5;124;03m        pd.Series: Week number in a month.\u001b[39;00m\n\u001b[1;32m      8\u001b[0m \u001b[38;5;124;03m    \"\"\"\u001b[39;00m\n\u001b[0;32m----> 9\u001b[0m     firstday_in_month \u001b[38;5;241m=\u001b[39m dates \u001b[38;5;241m-\u001b[39m pd\u001b[38;5;241m.\u001b[39mto_timedelta(\u001b[43mdates\u001b[49m\u001b[38;5;241;43m.\u001b[39;49m\u001b[43mdt\u001b[49m\u001b[38;5;241m.\u001b[39mday \u001b[38;5;241m-\u001b[39m \u001b[38;5;241m1\u001b[39m, unit\u001b[38;5;241m=\u001b[39m\u001b[38;5;124m'\u001b[39m\u001b[38;5;124md\u001b[39m\u001b[38;5;124m'\u001b[39m)\n\u001b[1;32m     10\u001b[0m     \u001b[38;5;28;01mreturn\u001b[39;00m (dates\u001b[38;5;241m.\u001b[39mdt\u001b[38;5;241m.\u001b[39mday\u001b[38;5;241m-\u001b[39m\u001b[38;5;241m1\u001b[39m \u001b[38;5;241m+\u001b[39m firstday_in_month\u001b[38;5;241m.\u001b[39mdt\u001b[38;5;241m.\u001b[39mweekday) \u001b[38;5;241m/\u001b[39m\u001b[38;5;241m/\u001b[39m \u001b[38;5;241m7\u001b[39m \u001b[38;5;241m+\u001b[39m \u001b[38;5;241m1\u001b[39m\n",
      "File \u001b[0;32m/usr/local/lib/python3.10/dist-packages/pandas/core/generic.py:6202\u001b[0m, in \u001b[0;36mNDFrame.__getattr__\u001b[0;34m(self, name)\u001b[0m\n\u001b[1;32m   6195\u001b[0m \u001b[38;5;28;01mif\u001b[39;00m (\n\u001b[1;32m   6196\u001b[0m     name \u001b[38;5;129;01mnot\u001b[39;00m \u001b[38;5;129;01min\u001b[39;00m \u001b[38;5;28mself\u001b[39m\u001b[38;5;241m.\u001b[39m_internal_names_set\n\u001b[1;32m   6197\u001b[0m     \u001b[38;5;129;01mand\u001b[39;00m name \u001b[38;5;129;01mnot\u001b[39;00m \u001b[38;5;129;01min\u001b[39;00m \u001b[38;5;28mself\u001b[39m\u001b[38;5;241m.\u001b[39m_metadata\n\u001b[1;32m   6198\u001b[0m     \u001b[38;5;129;01mand\u001b[39;00m name \u001b[38;5;129;01mnot\u001b[39;00m \u001b[38;5;129;01min\u001b[39;00m \u001b[38;5;28mself\u001b[39m\u001b[38;5;241m.\u001b[39m_accessors\n\u001b[1;32m   6199\u001b[0m     \u001b[38;5;129;01mand\u001b[39;00m \u001b[38;5;28mself\u001b[39m\u001b[38;5;241m.\u001b[39m_info_axis\u001b[38;5;241m.\u001b[39m_can_hold_identifiers_and_holds_name(name)\n\u001b[1;32m   6200\u001b[0m ):\n\u001b[1;32m   6201\u001b[0m     \u001b[38;5;28;01mreturn\u001b[39;00m \u001b[38;5;28mself\u001b[39m[name]\n\u001b[0;32m-> 6202\u001b[0m \u001b[38;5;28;01mreturn\u001b[39;00m \u001b[38;5;28;43mobject\u001b[39;49m\u001b[38;5;241;43m.\u001b[39;49m\u001b[38;5;21;43m__getattribute__\u001b[39;49m\u001b[43m(\u001b[49m\u001b[38;5;28;43mself\u001b[39;49m\u001b[43m,\u001b[49m\u001b[43m \u001b[49m\u001b[43mname\u001b[49m\u001b[43m)\u001b[49m\n",
      "File \u001b[0;32m/usr/local/lib/python3.10/dist-packages/pandas/core/accessor.py:224\u001b[0m, in \u001b[0;36mCachedAccessor.__get__\u001b[0;34m(self, obj, cls)\u001b[0m\n\u001b[1;32m    221\u001b[0m \u001b[38;5;28;01mif\u001b[39;00m obj \u001b[38;5;129;01mis\u001b[39;00m \u001b[38;5;28;01mNone\u001b[39;00m:\n\u001b[1;32m    222\u001b[0m     \u001b[38;5;66;03m# we're accessing the attribute of the class, i.e., Dataset.geo\u001b[39;00m\n\u001b[1;32m    223\u001b[0m     \u001b[38;5;28;01mreturn\u001b[39;00m \u001b[38;5;28mself\u001b[39m\u001b[38;5;241m.\u001b[39m_accessor\n\u001b[0;32m--> 224\u001b[0m accessor_obj \u001b[38;5;241m=\u001b[39m \u001b[38;5;28;43mself\u001b[39;49m\u001b[38;5;241;43m.\u001b[39;49m\u001b[43m_accessor\u001b[49m\u001b[43m(\u001b[49m\u001b[43mobj\u001b[49m\u001b[43m)\u001b[49m\n\u001b[1;32m    225\u001b[0m \u001b[38;5;66;03m# Replace the property with the accessor object. Inspired by:\u001b[39;00m\n\u001b[1;32m    226\u001b[0m \u001b[38;5;66;03m# https://www.pydanny.com/cached-property.html\u001b[39;00m\n\u001b[1;32m    227\u001b[0m \u001b[38;5;66;03m# We need to use object.__setattr__ because we overwrite __setattr__ on\u001b[39;00m\n\u001b[1;32m    228\u001b[0m \u001b[38;5;66;03m# NDFrame\u001b[39;00m\n\u001b[1;32m    229\u001b[0m \u001b[38;5;28mobject\u001b[39m\u001b[38;5;241m.\u001b[39m\u001b[38;5;21m__setattr__\u001b[39m(obj, \u001b[38;5;28mself\u001b[39m\u001b[38;5;241m.\u001b[39m_name, accessor_obj)\n",
      "File \u001b[0;32m/usr/local/lib/python3.10/dist-packages/pandas/core/indexes/accessors.py:608\u001b[0m, in \u001b[0;36mCombinedDatetimelikeProperties.__new__\u001b[0;34m(cls, data)\u001b[0m\n\u001b[1;32m    605\u001b[0m \u001b[38;5;28;01melif\u001b[39;00m \u001b[38;5;28misinstance\u001b[39m(data\u001b[38;5;241m.\u001b[39mdtype, PeriodDtype):\n\u001b[1;32m    606\u001b[0m     \u001b[38;5;28;01mreturn\u001b[39;00m PeriodProperties(data, orig)\n\u001b[0;32m--> 608\u001b[0m \u001b[38;5;28;01mraise\u001b[39;00m \u001b[38;5;167;01mAttributeError\u001b[39;00m(\u001b[38;5;124m\"\u001b[39m\u001b[38;5;124mCan only use .dt accessor with datetimelike values\u001b[39m\u001b[38;5;124m\"\u001b[39m)\n",
      "\u001b[0;31mAttributeError\u001b[0m: Can only use .dt accessor with datetimelike values"
     ]
    }
   ],
   "source": [
    "def weekinmonth(dates):\n",
    "    \"\"\"Get week number in a month.\n",
    "    \n",
    "    Parameters: \n",
    "        dates (pd.Series): Series of dates.\n",
    "    Returns: \n",
    "        pd.Series: Week number in a month.\n",
    "    \"\"\"\n",
    "    firstday_in_month = dates - pd.to_timedelta(dates.dt.day - 1, unit='d')\n",
    "    return (dates.dt.day-1 + firstday_in_month.dt.weekday) // 7 + 1\n",
    "weekinmonth(df[\"created\"])"
   ]
  },
  {
   "cell_type": "code",
   "execution_count": null,
   "id": "88eb71b4",
   "metadata": {},
   "outputs": [],
   "source": []
  },
  {
   "cell_type": "code",
   "execution_count": 52,
   "id": "d768095d",
   "metadata": {},
   "outputs": [],
   "source": [
    "df = pd.read_excel(\"Tarikh.xlsx\", header=None)\n",
    "df.dropna(inplace=True)\n",
    "df[0] = df[0].apply(lambda x: str(x).replace(\"/\", \"-\"))"
   ]
  },
  {
   "cell_type": "code",
   "execution_count": 27,
   "id": "27490357",
   "metadata": {},
   "outputs": [],
   "source": []
  },
  {
   "cell_type": "code",
   "execution_count": 31,
   "id": "91ee72e6",
   "metadata": {},
   "outputs": [
    {
     "data": {
      "text/plain": [
       "'1401/01/01'"
      ]
     },
     "execution_count": 31,
     "metadata": {},
     "output_type": "execute_result"
    }
   ],
   "source": [
    "df.iloc[0][0]"
   ]
  },
  {
   "cell_type": "code",
   "execution_count": 33,
   "id": "3f5e50b6",
   "metadata": {},
   "outputs": [
    {
     "data": {
      "text/plain": [
       "'14010101'"
      ]
     },
     "execution_count": 33,
     "metadata": {},
     "output_type": "execute_result"
    }
   ],
   "source": [
    "\"1401/01/01\".replace(\"/\", \"\")\n",
    "# import re\n",
    "# re.sub(\"\\\\\", \" \",\"1401/01/01\")"
   ]
  },
  {
   "cell_type": "code",
   "execution_count": 39,
   "id": "2d6649d1",
   "metadata": {},
   "outputs": [],
   "source": []
  },
  {
   "cell_type": "code",
   "execution_count": 40,
   "id": "e3bc14a4",
   "metadata": {},
   "outputs": [
    {
     "data": {
      "text/html": [
       "<div>\n",
       "<style scoped>\n",
       "    .dataframe tbody tr th:only-of-type {\n",
       "        vertical-align: middle;\n",
       "    }\n",
       "\n",
       "    .dataframe tbody tr th {\n",
       "        vertical-align: top;\n",
       "    }\n",
       "\n",
       "    .dataframe thead th {\n",
       "        text-align: right;\n",
       "    }\n",
       "</style>\n",
       "<table border=\"1\" class=\"dataframe\">\n",
       "  <thead>\n",
       "    <tr style=\"text-align: right;\">\n",
       "      <th></th>\n",
       "      <th>0</th>\n",
       "    </tr>\n",
       "  </thead>\n",
       "  <tbody>\n",
       "    <tr>\n",
       "      <th>0</th>\n",
       "      <td>1401-01-01</td>\n",
       "    </tr>\n",
       "    <tr>\n",
       "      <th>1</th>\n",
       "      <td>1401-01-02</td>\n",
       "    </tr>\n",
       "    <tr>\n",
       "      <th>2</th>\n",
       "      <td>1401-01-03</td>\n",
       "    </tr>\n",
       "    <tr>\n",
       "      <th>3</th>\n",
       "      <td>1401-01-04</td>\n",
       "    </tr>\n",
       "    <tr>\n",
       "      <th>4</th>\n",
       "      <td>1401-01-05</td>\n",
       "    </tr>\n",
       "    <tr>\n",
       "      <th>...</th>\n",
       "      <td>...</td>\n",
       "    </tr>\n",
       "    <tr>\n",
       "      <th>4573</th>\n",
       "      <td>1402-07-08</td>\n",
       "    </tr>\n",
       "    <tr>\n",
       "      <th>4574</th>\n",
       "      <td>1402-07-08</td>\n",
       "    </tr>\n",
       "    <tr>\n",
       "      <th>4575</th>\n",
       "      <td>1402-07-08</td>\n",
       "    </tr>\n",
       "    <tr>\n",
       "      <th>4576</th>\n",
       "      <td>1402-07-09</td>\n",
       "    </tr>\n",
       "    <tr>\n",
       "      <th>4577</th>\n",
       "      <td>1402-07-08</td>\n",
       "    </tr>\n",
       "  </tbody>\n",
       "</table>\n",
       "<p>4412 rows × 1 columns</p>\n",
       "</div>"
      ],
      "text/plain": [
       "               0\n",
       "0     1401-01-01\n",
       "1     1401-01-02\n",
       "2     1401-01-03\n",
       "3     1401-01-04\n",
       "4     1401-01-05\n",
       "...          ...\n",
       "4573  1402-07-08\n",
       "4574  1402-07-08\n",
       "4575  1402-07-08\n",
       "4576  1402-07-09\n",
       "4577  1402-07-08\n",
       "\n",
       "[4412 rows x 1 columns]"
      ]
     },
     "execution_count": 40,
     "metadata": {},
     "output_type": "execute_result"
    }
   ],
   "source": [
    "df"
   ]
  },
  {
   "cell_type": "code",
   "execution_count": 41,
   "id": "052969a6",
   "metadata": {},
   "outputs": [],
   "source": [
    "import jalali"
   ]
  },
  {
   "cell_type": "code",
   "execution_count": 47,
   "id": "0d6bf7b3",
   "metadata": {},
   "outputs": [
    {
     "data": {
      "text/plain": [
       "'2022-7-15'"
      ]
     },
     "execution_count": 47,
     "metadata": {},
     "output_type": "execute_result"
    }
   ],
   "source": [
    "jalali.Persian(\"1401-04-24\").gregorian_string()"
   ]
  },
  {
   "cell_type": "code",
   "execution_count": 49,
   "id": "bc36b50c",
   "metadata": {},
   "outputs": [],
   "source": [
    "def to_georgian(row):\n",
    "    try:\n",
    "        return jalali.Persian(str(row)).gregorian_string()\n",
    "    except:\n",
    "        return \"BAD FORMAT\""
   ]
  },
  {
   "cell_type": "code",
   "execution_count": 50,
   "id": "9bd081c6",
   "metadata": {},
   "outputs": [],
   "source": [
    "df[\"georgian\"] = df[0].apply(lambda x: to_georgian(x))"
   ]
  },
  {
   "cell_type": "code",
   "execution_count": 2,
   "id": "f925685a",
   "metadata": {},
   "outputs": [],
   "source": [
    "df = pd.read_csv(\"events-export-2920092-1697700606932.csv\")"
   ]
  },
  {
   "cell_type": "code",
   "execution_count": 4,
   "id": "14bbaa7c",
   "metadata": {},
   "outputs": [
    {
     "data": {
      "text/plain": [
       "1693584039.558"
      ]
     },
     "execution_count": 4,
     "metadata": {},
     "output_type": "execute_result"
    }
   ],
   "source": [
    "df[\"Time\"].iloc[0]"
   ]
  },
  {
   "cell_type": "code",
   "execution_count": 7,
   "id": "d8fa1bc8",
   "metadata": {},
   "outputs": [],
   "source": [
    "import json"
   ]
  },
  {
   "cell_type": "code",
   "execution_count": 8,
   "id": "467d5259",
   "metadata": {},
   "outputs": [],
   "source": [
    "with open(\"events-export-2920092-1697700859686.json\") as f:\n",
    "    j = json.load(f)"
   ]
  },
  {
   "cell_type": "code",
   "execution_count": 9,
   "id": "9d977e61",
   "metadata": {},
   "outputs": [
    {
     "data": {
      "text/plain": [
       "{'event': 'Create Purchase',\n",
       " 'properties': {'time': 1693584039.558,\n",
       "  'distinct_id': 'mehdiahmadvand123s@gmail.com',\n",
       "  '$insert_id': 'd1e5322e31ef4eb69e5d34080537e7f1',\n",
       "  '$lib_version': '4.10.0',\n",
       "  '$mp_api_endpoint': 'api.mixpanel.com',\n",
       "  '$mp_api_timestamp_ms': 1693584039627,\n",
       "  'Discount': None,\n",
       "  'Plan': 3112720570236792,\n",
       "  'Price': 100000,\n",
       "  'Status': 'paied',\n",
       "  'Words after purchase': 5000,\n",
       "  'Words before purchase': 5000,\n",
       "  'mp_lib': 'python',\n",
       "  'mp_processing_time_ms': 1693584039662},\n",
       " 'isExpanded': True}"
      ]
     },
     "execution_count": 9,
     "metadata": {},
     "output_type": "execute_result"
    }
   ],
   "source": [
    "j[0]"
   ]
  },
  {
   "cell_type": "code",
   "execution_count": 4,
   "id": "dc0854cb",
   "metadata": {},
   "outputs": [],
   "source": [
    "import json\n",
    "import glob"
   ]
  },
  {
   "cell_type": "code",
   "execution_count": 5,
   "id": "853fb61f",
   "metadata": {},
   "outputs": [],
   "source": [
    "dirs = []\n",
    "for i in glob.iglob(\"*.json\"):\n",
    "    dirs.append(i)"
   ]
  },
  {
   "cell_type": "code",
   "execution_count": 13,
   "id": "03bc2066",
   "metadata": {},
   "outputs": [],
   "source": [
    "with open(dirs[3]) as file:\n",
    "    j = json.load(file)"
   ]
  },
  {
   "cell_type": "code",
   "execution_count": 4,
   "id": "0a41f5fd",
   "metadata": {},
   "outputs": [],
   "source": [
    "import pandas as pd\n",
    "import re"
   ]
  },
  {
   "cell_type": "code",
   "execution_count": 7,
   "id": "a8304071",
   "metadata": {},
   "outputs": [],
   "source": [
    "with open(\"discount_codes.txt\") as file:\n",
    "    codes = file.readlines()"
   ]
  },
  {
   "cell_type": "code",
   "execution_count": 8,
   "id": "75b17dcf",
   "metadata": {},
   "outputs": [],
   "source": [
    "codes = [x.replace(\"\\n\", \"\") for x in codes]"
   ]
  },
  {
   "cell_type": "code",
   "execution_count": 10,
   "id": "14530ff7",
   "metadata": {},
   "outputs": [],
   "source": [
    "df = pd.DataFrame({\"codes\": codes})"
   ]
  },
  {
   "cell_type": "code",
   "execution_count": 12,
   "id": "e20cfb93",
   "metadata": {},
   "outputs": [],
   "source": [
    "df.to_excel(\"discount_codes.xlsx\", index=False)"
   ]
  },
  {
   "cell_type": "code",
   "execution_count": 13,
   "id": "f8c5cdfe",
   "metadata": {},
   "outputs": [
    {
     "data": {
      "text/plain": [
       "'html\\nasdad\\nhtml'"
      ]
     },
     "execution_count": 13,
     "metadata": {},
     "output_type": "execute_result"
    }
   ],
   "source": [
    "a = \"\"\"\n",
    "html\n",
    "asdad\n",
    "html\n",
    "\"\"\"\n",
    "a.strip()"
   ]
  },
  {
   "cell_type": "code",
   "execution_count": 14,
   "id": "41082721",
   "metadata": {},
   "outputs": [
    {
     "name": "stdout",
     "output_type": "stream",
     "text": [
      "l\n",
      "asdad\n",
      "html\n",
      "\n"
     ]
    }
   ],
   "source": [
    "if a.strip().startswith(\"html\"):\n",
    "    print(a[4:])"
   ]
  },
  {
   "cell_type": "code",
   "execution_count": null,
   "id": "bd451751",
   "metadata": {},
   "outputs": [],
   "source": []
  }
 ],
 "metadata": {
  "kernelspec": {
   "display_name": "Python 3 (ipykernel)",
   "language": "python",
   "name": "python3"
  },
  "language_info": {
   "codemirror_mode": {
    "name": "ipython",
    "version": 3
   },
   "file_extension": ".py",
   "mimetype": "text/x-python",
   "name": "python",
   "nbconvert_exporter": "python",
   "pygments_lexer": "ipython3",
   "version": "3.10.12"
  }
 },
 "nbformat": 4,
 "nbformat_minor": 5
}
